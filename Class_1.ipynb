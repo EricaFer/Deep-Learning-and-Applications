{
  "nbformat": 4,
  "nbformat_minor": 0,
  "metadata": {
    "colab": {
      "name": "Copy of Untitled1.ipynb",
      "provenance": [],
      "include_colab_link": true
    },
    "kernelspec": {
      "name": "python3",
      "display_name": "Python 3"
    },
    "accelerator": "GPU"
  },
  "cells": [
    {
      "cell_type": "markdown",
      "metadata": {
        "id": "view-in-github",
        "colab_type": "text"
      },
      "source": [
        "<a href=\"https://colab.research.google.com/github/EricaFer/Deep-Learning-and-Applications/blob/main/Class_1.ipynb\" target=\"_parent\"><img src=\"https://colab.research.google.com/assets/colab-badge.svg\" alt=\"Open In Colab\"/></a>"
      ]
    },
    {
      "cell_type": "code",
      "metadata": {
        "colab": {
          "base_uri": "https://localhost:8080/",
          "height": 300
        },
        "id": "8bJsv-LB1s7y",
        "outputId": "4c527e5f-f709-4ebc-d1b6-1f5b5b118e06"
      },
      "source": [
        "import torch\n",
        "import torch.nn as nn\n",
        "import torchvision\n",
        "import torchvision.transforms as transforms\n",
        "from torchvision import transforms\n",
        "\n",
        "device = torch.device('cuda:0' if torch.cuda.is_available() else 'cpu')\n",
        "print(device)\n",
        "\n",
        "#Hyper parameters\n",
        "num_epochs = 5\n",
        "num_classes = 10\n",
        "batch_size = 64\n",
        "learning_rate = 0.001\n",
        "\n",
        "\n",
        "train_dataset = torchvision.datasets.MNIST(root = '../../data/', train= True, transform= transforms.ToTensor(), download=True)\n",
        "test_dataset = torchvision.datasets.MNIST(root = '../../data/', train= False, transform= transforms.ToTensor())\n",
        "\n",
        "\n",
        "train_loader = torch.utils.data.DataLoader(dataset=train_dataset, batch_size= batch_size, shuffle= True )\n",
        "test_loader = torch.utils.data.DataLoader(dataset=test_dataset, batch_size= batch_size, shuffle= True )\n",
        "\n",
        "\n",
        "import matplotlib.pyplot as plt \n",
        "\n",
        "img,_ = train_dataset[10]\n",
        "print(img.shape)\n",
        "to_pil= transforms.ToPILImage()\n",
        "img = to_pil(img)\n",
        "plt.imshow(img,cmap=\"gray\")\n",
        "plt.show(img)\n",
        "\n",
        "\n",
        "\n",
        "\n",
        "\n"
      ],
      "execution_count": null,
      "outputs": [
        {
          "output_type": "stream",
          "text": [
            "cuda:0\n",
            "torch.Size([1, 28, 28])\n"
          ],
          "name": "stdout"
        },
        {
          "output_type": "display_data",
          "data": {
            "image/png": "[encoded data removed]",
            "text/plain": [
              "<Figure size 432x288 with 1 Axes>"
            ]
          },
          "metadata": {
            "tags": [],
            "needs_background": "light"
          }
        }
      ]
    },
    {
      "cell_type": "code",
      "metadata": {
        "id": "V8CKOXkE4nYZ"
      },
      "source": [
        "class CNN(nn.Module):\n",
        "     def __init__(self, num_classes =10):\n",
        "       super(CNN,self).__init__()\n",
        "       self.layer1 = nn.Sequential(\n",
        "           nn.Conv2d(in_channels=1,on_channels = 16, kernel_size= 3, stride=1, padding= 2),\n",
        "           nn.ReLU(), \n",
        "                     \n",
        "       )"
      ],
      "execution_count": null,
      "outputs": []
    },
    {
      "cell_type": "code",
      "metadata": {
        "id": "W4PkxoDT5oOu"
      },
      "source": [
        ""
      ],
      "execution_count": null,
      "outputs": []
    }
  ]
}